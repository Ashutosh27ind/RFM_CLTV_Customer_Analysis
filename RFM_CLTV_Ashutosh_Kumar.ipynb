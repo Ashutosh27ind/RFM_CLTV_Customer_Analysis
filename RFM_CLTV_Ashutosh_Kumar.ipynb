{
 "cells": [
  {
   "cell_type": "markdown",
   "metadata": {},
   "source": [
    "### Name : Ashutosh Kumar\n",
    "### Email: ashutoshind2017@outlook.com  \n"
   ]
  },
  {
   "cell_type": "markdown",
   "metadata": {},
   "source": [
    "# Problem Statement Description :\n",
    "\n",
    "#### USECASE 1: \n",
    "   \n",
    "•\tCreate RFMB segments while maintaining industry standards to segment the clusters based on Recency, Frequency and Monetary attributes.  \n",
    "•\tThe solution(class, function)  that is going to be developed should take start date. End date, recency, frequency, Monetary as parameters.  \n",
    "•\tPlease ensure the segments in the below mentioned rules.  \n",
    "WHEN ‘111’ THEN ‘Champions’   \n",
    "WHEN ‘113’ THEN ‘Promising’   \n",
    "WHEN ‘114’ THEN ‘Potential Loyalist’     \n",
    "WHEN ‘144’ THEN ‘New Customers’   \n",
    "WHEN ‘312’ THEN ‘Loyal Customers’  \n",
    "WHEN ‘442’ THEN ‘Cant loose them’    \n",
    "WHEN ‘443’ THEN ‘Need Attention’  \n",
    "WHEN ‘552’ THEN ‘About to Sleep’   \n",
    "WHEN ‘553’ THEN ‘Hibernating’  \n",
    "WHEN ‘554’ THEN ‘At Risk’     \n",
    "WHEN ‘555’ THEN ‘Lost’.    \n",
    "     \n",
    "#### USECASE 2:  \n",
    "   \n",
    "•\tCreate CLTV for the existing customers in the dataset mentioned.  \n",
    "•\tPlease ensure standard selecting criteria for the model to converge.  \n",
    "•\tThe solution which could be either class or function need to take start date and end date in to consideration.  "
   ]
  },
  {
   "cell_type": "markdown",
   "metadata": {},
   "source": [
    "## Step1 : EDA and Data Preparation\n",
    "\n"
   ]
  },
  {
   "cell_type": "markdown",
   "metadata": {},
   "source": [
    "\n",
    "### Data Understanding and Data Pre-processing "
   ]
  },
  {
   "cell_type": "code",
   "execution_count": 1,
   "metadata": {},
   "outputs": [],
   "source": [
    "# Importing the required python libraries and packages :\n",
    "\n",
    "import os\n",
    "\n",
    "import numpy as np\n",
    "import pandas as pd\n",
    "\n",
    "import matplotlib.pyplot as plt\n",
    "import seaborn as sns\n",
    "\n",
    "import time\n",
    "import datetime as datetime\n",
    "\n",
    "# Set notebook display options :\n",
    "pd.set_option('display.max_columns', None)\n",
    "pd.set_option('display.max_rows', None)\n",
    "\n",
    "from lifetimes import BetaGeoFitter\n",
    "from lifetimes import GammaGammaFitter\n",
    "from lifetimes.plotting import plot_period_transactions\n",
    "\n",
    "from sklearn.preprocessing import MinMaxScaler\n",
    "\n",
    "# To ignore warnings\n",
    "import warnings\n",
    "warnings.filterwarnings(\"ignore\")"
   ]
  },
  {
   "cell_type": "code",
   "execution_count": 2,
   "metadata": {},
   "outputs": [],
   "source": [
    "# Data Issue 1 : There are \"unnamed\" columns found with blank data, so need to be removed as its unuseful."
   ]
  },
  {
   "cell_type": "code",
   "execution_count": 3,
   "metadata": {
    "scrolled": true
   },
   "outputs": [
    {
     "data": {
      "text/html": [
       "<div>\n",
       "<style scoped>\n",
       "    .dataframe tbody tr th:only-of-type {\n",
       "        vertical-align: middle;\n",
       "    }\n",
       "\n",
       "    .dataframe tbody tr th {\n",
       "        vertical-align: top;\n",
       "    }\n",
       "\n",
       "    .dataframe thead th {\n",
       "        text-align: right;\n",
       "    }\n",
       "</style>\n",
       "<table border=\"1\" class=\"dataframe\">\n",
       "  <thead>\n",
       "    <tr style=\"text-align: right;\">\n",
       "      <th></th>\n",
       "      <th>order_number</th>\n",
       "      <th>total</th>\n",
       "      <th>status</th>\n",
       "      <th>customer_account_id</th>\n",
       "      <th>tenant_id</th>\n",
       "      <th>store_id</th>\n",
       "      <th>submitted_date</th>\n",
       "      <th>fulfillment_date</th>\n",
       "    </tr>\n",
       "  </thead>\n",
       "  <tbody>\n",
       "    <tr>\n",
       "      <th>0</th>\n",
       "      <td>336121</td>\n",
       "      <td>NaN</td>\n",
       "      <td>Accepted</td>\n",
       "      <td>54660.0</td>\n",
       "      <td>TNG00072</td>\n",
       "      <td>STIN000000110</td>\n",
       "      <td>6/7/2019</td>\n",
       "      <td>4/18/2019</td>\n",
       "    </tr>\n",
       "    <tr>\n",
       "      <th>1</th>\n",
       "      <td>338138</td>\n",
       "      <td>NaN</td>\n",
       "      <td>Accepted</td>\n",
       "      <td>17768.0</td>\n",
       "      <td>TNG00072</td>\n",
       "      <td>STIN000000110</td>\n",
       "      <td>6/4/2020</td>\n",
       "      <td>3/14/2019</td>\n",
       "    </tr>\n",
       "    <tr>\n",
       "      <th>2</th>\n",
       "      <td>338638</td>\n",
       "      <td>NaN</td>\n",
       "      <td>Accepted</td>\n",
       "      <td>17316.0</td>\n",
       "      <td>TNG00072</td>\n",
       "      <td>STIN000000110</td>\n",
       "      <td>12/16/2020</td>\n",
       "      <td>4/11/2016</td>\n",
       "    </tr>\n",
       "    <tr>\n",
       "      <th>3</th>\n",
       "      <td>338027</td>\n",
       "      <td>NaN</td>\n",
       "      <td>Accepted</td>\n",
       "      <td>3431.0</td>\n",
       "      <td>TNG00072</td>\n",
       "      <td>STIN000000110</td>\n",
       "      <td>1/4/2020</td>\n",
       "      <td>8/18/2019</td>\n",
       "    </tr>\n",
       "    <tr>\n",
       "      <th>4</th>\n",
       "      <td>338559</td>\n",
       "      <td>NaN</td>\n",
       "      <td>Accepted</td>\n",
       "      <td>52850.0</td>\n",
       "      <td>TNG00072</td>\n",
       "      <td>STIN000000110</td>\n",
       "      <td>10/24/2019</td>\n",
       "      <td>9/5/2020</td>\n",
       "    </tr>\n",
       "  </tbody>\n",
       "</table>\n",
       "</div>"
      ],
      "text/plain": [
       "   order_number  total    status  customer_account_id tenant_id  \\\n",
       "0        336121    NaN  Accepted              54660.0  TNG00072   \n",
       "1        338138    NaN  Accepted              17768.0  TNG00072   \n",
       "2        338638    NaN  Accepted              17316.0  TNG00072   \n",
       "3        338027    NaN  Accepted               3431.0  TNG00072   \n",
       "4        338559    NaN  Accepted              52850.0  TNG00072   \n",
       "\n",
       "        store_id submitted_date fulfillment_date  \n",
       "0  STIN000000110       6/7/2019        4/18/2019  \n",
       "1  STIN000000110       6/4/2020        3/14/2019  \n",
       "2  STIN000000110     12/16/2020        4/11/2016  \n",
       "3  STIN000000110       1/4/2020        8/18/2019  \n",
       "4  STIN000000110     10/24/2019         9/5/2020  "
      ]
     },
     "execution_count": 3,
     "metadata": {},
     "output_type": "execute_result"
    }
   ],
   "source": [
    "# Reading the Order data from the CSV file: \n",
    "\n",
    "# find the columns that have 'unnamed', then drop those columns. \n",
    "orders_df = pd.read_csv(r'data\\orders_data.csv')\n",
    "orders_df.drop(orders_df.columns[orders_df.columns.str.contains('unnamed',case = False)],axis = 1, inplace = True)\n",
    "\n",
    "orders_df.head()"
   ]
  },
  {
   "cell_type": "code",
   "execution_count": 4,
   "metadata": {},
   "outputs": [
    {
     "data": {
      "text/html": [
       "<div>\n",
       "<style scoped>\n",
       "    .dataframe tbody tr th:only-of-type {\n",
       "        vertical-align: middle;\n",
       "    }\n",
       "\n",
       "    .dataframe tbody tr th {\n",
       "        vertical-align: top;\n",
       "    }\n",
       "\n",
       "    .dataframe thead th {\n",
       "        text-align: right;\n",
       "    }\n",
       "</style>\n",
       "<table border=\"1\" class=\"dataframe\">\n",
       "  <thead>\n",
       "    <tr style=\"text-align: right;\">\n",
       "      <th></th>\n",
       "      <th>product_code</th>\n",
       "      <th>order_number</th>\n",
       "      <th>quantity</th>\n",
       "    </tr>\n",
       "  </thead>\n",
       "  <tbody>\n",
       "    <tr>\n",
       "      <th>0</th>\n",
       "      <td>115280</td>\n",
       "      <td>331</td>\n",
       "      <td>1</td>\n",
       "    </tr>\n",
       "    <tr>\n",
       "      <th>1</th>\n",
       "      <td>membership_product</td>\n",
       "      <td>196</td>\n",
       "      <td>1</td>\n",
       "    </tr>\n",
       "    <tr>\n",
       "      <th>2</th>\n",
       "      <td>542131</td>\n",
       "      <td>708</td>\n",
       "      <td>1</td>\n",
       "    </tr>\n",
       "    <tr>\n",
       "      <th>3</th>\n",
       "      <td>229161</td>\n",
       "      <td>356</td>\n",
       "      <td>1</td>\n",
       "    </tr>\n",
       "    <tr>\n",
       "      <th>4</th>\n",
       "      <td>360242</td>\n",
       "      <td>394</td>\n",
       "      <td>1</td>\n",
       "    </tr>\n",
       "  </tbody>\n",
       "</table>\n",
       "</div>"
      ],
      "text/plain": [
       "         product_code  order_number  quantity\n",
       "0              115280           331         1\n",
       "1  membership_product           196         1\n",
       "2              542131           708         1\n",
       "3              229161           356         1\n",
       "4              360242           394         1"
      ]
     },
     "execution_count": 4,
     "metadata": {},
     "output_type": "execute_result"
    }
   ],
   "source": [
    "# Read the product data from CSV file  :\n",
    "items_df = pd.read_csv(r'data\\items_data.csv')\n",
    "items_df.head()"
   ]
  },
  {
   "cell_type": "code",
   "execution_count": 5,
   "metadata": {},
   "outputs": [],
   "source": [
    "# Function to get the information about the dataframe :\n",
    "\n",
    "def check_df(dataframe):\n",
    "    print(\"################ Shape ####################\")\n",
    "    print(dataframe.shape)\n",
    "    print(\"############### Columns ###################\")\n",
    "    print(dataframe.columns)\n",
    "    print(\"############### Types #####################\")\n",
    "    print(dataframe.dtypes)\n",
    "    print(\"############### Describe ###################\")\n",
    "    print(dataframe.describe().T)\n",
    "    print(\"############### Info ###################\")\n",
    "    print(dataframe.info())"
   ]
  },
  {
   "cell_type": "code",
   "execution_count": 6,
   "metadata": {},
   "outputs": [
    {
     "name": "stdout",
     "output_type": "stream",
     "text": [
      "################ Shape ####################\n",
      "(54480, 3)\n",
      "############### Columns ###################\n",
      "Index(['product_code', 'order_number', 'quantity'], dtype='object')\n",
      "############### Types #####################\n",
      "product_code    object\n",
      "order_number     int64\n",
      "quantity         int64\n",
      "dtype: object\n",
      "############### Describe ###################\n",
      "                count          mean           std  min      25%      50%  \\\n",
      "order_number  54480.0  43368.628634  41743.356341  1.0  10542.0  33548.0   \n",
      "quantity      54480.0      1.546751      6.781013  1.0      1.0      1.0   \n",
      "\n",
      "                   75%        max  \n",
      "order_number  79015.25  2242922.0  \n",
      "quantity          1.00     1000.0  \n",
      "############### Info ###################\n",
      "<class 'pandas.core.frame.DataFrame'>\n",
      "RangeIndex: 54480 entries, 0 to 54479\n",
      "Data columns (total 3 columns):\n",
      " #   Column        Non-Null Count  Dtype \n",
      "---  ------        --------------  ----- \n",
      " 0   product_code  54360 non-null  object\n",
      " 1   order_number  54480 non-null  int64 \n",
      " 2   quantity      54480 non-null  int64 \n",
      "dtypes: int64(2), object(1)\n",
      "memory usage: 1.2+ MB\n",
      "None\n"
     ]
    }
   ],
   "source": [
    "# Information about the item data : \n",
    "check_df(items_df)"
   ]
  },
  {
   "cell_type": "code",
   "execution_count": 7,
   "metadata": {},
   "outputs": [
    {
     "name": "stdout",
     "output_type": "stream",
     "text": [
      "################ Shape ####################\n",
      "(470571, 8)\n",
      "############### Columns ###################\n",
      "Index(['order_number', 'total', 'status', 'customer_account_id', 'tenant_id',\n",
      "       'store_id', 'submitted_date', 'fulfillment_date'],\n",
      "      dtype='object')\n",
      "############### Types #####################\n",
      "order_number             int64\n",
      "total                  float64\n",
      "status                  object\n",
      "customer_account_id    float64\n",
      "tenant_id               object\n",
      "store_id                object\n",
      "submitted_date          object\n",
      "fulfillment_date        object\n",
      "dtype: object\n",
      "############### Describe ###################\n",
      "                        count           mean            std   min       25%  \\\n",
      "order_number         470571.0  330619.499903  373505.605467  1.00  94844.00   \n",
      "total                 45911.0      71.852421      92.189648  0.53     19.97   \n",
      "customer_account_id  435689.0   29612.454650   17239.900927  1.00  14833.00   \n",
      "\n",
      "                           50%        75%        max  \n",
      "order_number         248205.00  412890.00  8993542.0  \n",
      "total                    87.19      87.19     7499.7  \n",
      "customer_account_id   29105.00   44519.00    60000.0  \n",
      "############### Info ###################\n",
      "<class 'pandas.core.frame.DataFrame'>\n",
      "RangeIndex: 470571 entries, 0 to 470570\n",
      "Data columns (total 8 columns):\n",
      " #   Column               Non-Null Count   Dtype  \n",
      "---  ------               --------------   -----  \n",
      " 0   order_number         470571 non-null  int64  \n",
      " 1   total                45911 non-null   float64\n",
      " 2   status               470571 non-null  object \n",
      " 3   customer_account_id  435689 non-null  float64\n",
      " 4   tenant_id            470571 non-null  object \n",
      " 5   store_id             470571 non-null  object \n",
      " 6   submitted_date       431588 non-null  object \n",
      " 7   fulfillment_date     468367 non-null  object \n",
      "dtypes: float64(2), int64(1), object(5)\n",
      "memory usage: 28.7+ MB\n",
      "None\n"
     ]
    }
   ],
   "source": [
    "# Information about the item data : \n",
    "check_df(orders_df)"
   ]
  },
  {
   "cell_type": "markdown",
   "metadata": {},
   "source": [
    "### Missing value analysis:"
   ]
  },
  {
   "cell_type": "code",
   "execution_count": 8,
   "metadata": {},
   "outputs": [],
   "source": [
    "# Let's visualise the missing values:\n",
    "\n",
    "def missing_values_plot(df):\n",
    "    missing_data_df = (df.isnull().sum() / len(df)) * 100\n",
    "    missing_data_df = missing_data_df.drop(missing_data_df[missing_data_df == 0].index).sort_values(ascending=False)\n",
    "\n",
    "    plt.figure(figsize=(3, 5))\n",
    "    plt.xticks(rotation=\"90\")\n",
    "    plt.title('Missing Data Analysis Plot')\n",
    "    plt.xlabel(\"Column name\")\n",
    "    plt.ylabel(\"Missing value percentages\")\n",
    "    sns.barplot(x=missing_data_df.index, y=missing_data_df)\n",
    "    plt.show()"
   ]
  },
  {
   "cell_type": "code",
   "execution_count": 9,
   "metadata": {},
   "outputs": [],
   "source": [
    "# Identify the missing data:\n",
    "# creating a function to identify the missing data in dataset:\n",
    "def missing_data(data):\n",
    "    total = data.isnull().sum().sort_values(ascending = False)\n",
    "    percent = (data.isnull().sum()/data.isnull().count()*100).sort_values(ascending = False)\n",
    "    return pd.concat([total, percent], axis=1, keys=['Total', 'Percent'])"
   ]
  },
  {
   "cell_type": "code",
   "execution_count": 10,
   "metadata": {},
   "outputs": [
    {
     "data": {
      "text/html": [
       "<div>\n",
       "<style scoped>\n",
       "    .dataframe tbody tr th:only-of-type {\n",
       "        vertical-align: middle;\n",
       "    }\n",
       "\n",
       "    .dataframe tbody tr th {\n",
       "        vertical-align: top;\n",
       "    }\n",
       "\n",
       "    .dataframe thead th {\n",
       "        text-align: right;\n",
       "    }\n",
       "</style>\n",
       "<table border=\"1\" class=\"dataframe\">\n",
       "  <thead>\n",
       "    <tr style=\"text-align: right;\">\n",
       "      <th></th>\n",
       "      <th>Total</th>\n",
       "      <th>Percent</th>\n",
       "    </tr>\n",
       "  </thead>\n",
       "  <tbody>\n",
       "    <tr>\n",
       "      <th>product_code</th>\n",
       "      <td>120</td>\n",
       "      <td>0.220264</td>\n",
       "    </tr>\n",
       "    <tr>\n",
       "      <th>quantity</th>\n",
       "      <td>0</td>\n",
       "      <td>0.000000</td>\n",
       "    </tr>\n",
       "    <tr>\n",
       "      <th>order_number</th>\n",
       "      <td>0</td>\n",
       "      <td>0.000000</td>\n",
       "    </tr>\n",
       "  </tbody>\n",
       "</table>\n",
       "</div>"
      ],
      "text/plain": [
       "              Total   Percent\n",
       "product_code    120  0.220264\n",
       "quantity          0  0.000000\n",
       "order_number      0  0.000000"
      ]
     },
     "execution_count": 10,
     "metadata": {},
     "output_type": "execute_result"
    }
   ],
   "source": [
    "missing_data(items_df)"
   ]
  },
  {
   "cell_type": "code",
   "execution_count": 11,
   "metadata": {
    "scrolled": false
   },
   "outputs": [
    {
     "data": {
      "image/png": "[encoded data removed]",
      "text/plain": [
       "<Figure size 216x360 with 1 Axes>"
      ]
     },
     "metadata": {
      "needs_background": "light"
     },
     "output_type": "display_data"
    }
   ],
   "source": [
    "missing_values_plot(items_df)"
   ]
  },
  {
   "cell_type": "code",
   "execution_count": 12,
   "metadata": {},
   "outputs": [],
   "source": [
    "# Around 22% of data is missing for the product code in items data."
   ]
  },
  {
   "cell_type": "code",
   "execution_count": 13,
   "metadata": {},
   "outputs": [
    {
     "data": {
      "text/html": [
       "<div>\n",
       "<style scoped>\n",
       "    .dataframe tbody tr th:only-of-type {\n",
       "        vertical-align: middle;\n",
       "    }\n",
       "\n",
       "    .dataframe tbody tr th {\n",
       "        vertical-align: top;\n",
       "    }\n",
       "\n",
       "    .dataframe thead th {\n",
       "        text-align: right;\n",
       "    }\n",
       "</style>\n",
       "<table border=\"1\" class=\"dataframe\">\n",
       "  <thead>\n",
       "    <tr style=\"text-align: right;\">\n",
       "      <th></th>\n",
       "      <th>Total</th>\n",
       "      <th>Percent</th>\n",
       "    </tr>\n",
       "  </thead>\n",
       "  <tbody>\n",
       "    <tr>\n",
       "      <th>total</th>\n",
       "      <td>424660</td>\n",
       "      <td>90.243555</td>\n",
       "    </tr>\n",
       "    <tr>\n",
       "      <th>submitted_date</th>\n",
       "      <td>38983</td>\n",
       "      <td>8.284191</td>\n",
       "    </tr>\n",
       "    <tr>\n",
       "      <th>customer_account_id</th>\n",
       "      <td>34882</td>\n",
       "      <td>7.412696</td>\n",
       "    </tr>\n",
       "    <tr>\n",
       "      <th>fulfillment_date</th>\n",
       "      <td>2204</td>\n",
       "      <td>0.468367</td>\n",
       "    </tr>\n",
       "    <tr>\n",
       "      <th>store_id</th>\n",
       "      <td>0</td>\n",
       "      <td>0.000000</td>\n",
       "    </tr>\n",
       "    <tr>\n",
       "      <th>tenant_id</th>\n",
       "      <td>0</td>\n",
       "      <td>0.000000</td>\n",
       "    </tr>\n",
       "    <tr>\n",
       "      <th>status</th>\n",
       "      <td>0</td>\n",
       "      <td>0.000000</td>\n",
       "    </tr>\n",
       "    <tr>\n",
       "      <th>order_number</th>\n",
       "      <td>0</td>\n",
       "      <td>0.000000</td>\n",
       "    </tr>\n",
       "  </tbody>\n",
       "</table>\n",
       "</div>"
      ],
      "text/plain": [
       "                      Total    Percent\n",
       "total                424660  90.243555\n",
       "submitted_date        38983   8.284191\n",
       "customer_account_id   34882   7.412696\n",
       "fulfillment_date       2204   0.468367\n",
       "store_id                  0   0.000000\n",
       "tenant_id                 0   0.000000\n",
       "status                    0   0.000000\n",
       "order_number              0   0.000000"
      ]
     },
     "execution_count": 13,
     "metadata": {},
     "output_type": "execute_result"
    }
   ],
   "source": [
    "missing_data(orders_df)"
   ]
  },
  {
   "cell_type": "code",
   "execution_count": 14,
   "metadata": {},
   "outputs": [
    {
     "data": {
      "image/png": "[encoded data removed]",
      "text/plain": [
       "<Figure size 216x360 with 1 Axes>"
      ]
     },
     "metadata": {
      "needs_background": "light"
     },
     "output_type": "display_data"
    }
   ],
   "source": [
    "missing_values_plot(orders_df)"
   ]
  },
  {
   "cell_type": "code",
   "execution_count": 15,
   "metadata": {},
   "outputs": [],
   "source": [
    "# Around 90% of data is missing for the \"total\", close to 8 % of data is missing for submitted data and customer_account_id\n",
    "# Around 0.5 % of fulfilment date is missing"
   ]
  },
  {
   "cell_type": "code",
   "execution_count": 16,
   "metadata": {},
   "outputs": [
    {
     "data": {
      "text/plain": [
       "Accepted         422678\n",
       "Abandoned         28503\n",
       "Pending            8226\n",
       "Errored            4862\n",
       "Completed          4736\n",
       "Cancelled          1364\n",
       "Processing          194\n",
       "PendingReview         5\n",
       "Null                  2\n",
       "Validated             1\n",
       "Name: status, dtype: int64"
      ]
     },
     "execution_count": 16,
     "metadata": {},
     "output_type": "execute_result"
    }
   ],
   "source": [
    "# Let's plot the number of status of orders :\n",
    "orders_df['status'].value_counts()"
   ]
  },
  {
   "cell_type": "code",
   "execution_count": 17,
   "metadata": {
    "scrolled": true
   },
   "outputs": [
    {
     "data": {
      "image/png": "[encoded data removed]",
      "text/plain": [
       "<Figure size 792x432 with 1 Axes>"
      ]
     },
     "metadata": {
      "needs_background": "light"
     },
     "output_type": "display_data"
    }
   ],
   "source": [
    "# Order Status Distribution :\n",
    "plt.figure(figsize=(11,6))\n",
    "\n",
    "plt.style.use('seaborn-dark-palette')\n",
    "orders_df['status'].value_counts().plot(kind=\"bar\")\n",
    "plt.title(\"Order Status Distribution\")\n",
    "\n",
    "plt.show()"
   ]
  },
  {
   "cell_type": "code",
   "execution_count": 18,
   "metadata": {},
   "outputs": [],
   "source": [
    "# So, the highest numbers of orders are Accepted : 4,00,000 approx and least number of orders are Validated orders."
   ]
  },
  {
   "cell_type": "markdown",
   "metadata": {},
   "source": [
    "### Outlier Data Analysis and Treatment:"
   ]
  },
  {
   "cell_type": "code",
   "execution_count": 19,
   "metadata": {},
   "outputs": [
    {
     "data": {
      "text/plain": [
       "[Text(0.5, 1.0, 'Distribution of TransactionAmount')]"
      ]
     },
     "execution_count": 19,
     "metadata": {},
     "output_type": "execute_result"
    },
    {
     "data": {
      "image/png": "[encoded data removed]",
      "text/plain": [
       "<Figure size 1152x432 with 1 Axes>"
      ]
     },
     "metadata": {},
     "output_type": "display_data"
    }
   ],
   "source": [
    "# Let's try to visualise the distribution of the Order transction amount :\n",
    "\n",
    "sns.set_style(\"whitegrid\")\n",
    "f, ax = plt.subplots(figsize=(16,6))\n",
    "# Using log scale:\n",
    "#ax.set_xscale(\"log\")\n",
    "ax = sns.boxplot(data=orders_df['total'] , orient=\"h\", palette=\"Purples\")\n",
    "# Using the custom ticker :\n",
    "#ax.xaxis.set_major_locator(ticker.MultipleLocator(200000))\n",
    "ax.set(ylabel=\"TransactionAmount\")\n",
    "ax.set(xlabel=\"Values\")\n",
    "ax.set(title=\"Distribution of TransactionAmount\")\n",
    "#sns.despine(trim=True,left=True)"
   ]
  },
  {
   "cell_type": "code",
   "execution_count": 20,
   "metadata": {},
   "outputs": [
    {
     "data": {
      "text/plain": [
       "[Text(0.5, 1.0, 'Distribution of Transaction Quantity')]"
      ]
     },
     "execution_count": 20,
     "metadata": {},
     "output_type": "execute_result"
    },
    {
     "data": {
      "image/png": "[encoded data removed]",
      "text/plain": [
       "<Figure size 1152x432 with 1 Axes>"
      ]
     },
     "metadata": {},
     "output_type": "display_data"
    }
   ],
   "source": [
    "# Let's try to visualise the distribution of the Order item quantity :\n",
    "\n",
    "sns.set_style(\"whitegrid\")\n",
    "f, ax = plt.subplots(figsize=(16,6))\n",
    "# Using log scale:\n",
    "#ax.set_xscale(\"log\")\n",
    "ax = sns.boxplot(data=items_df['quantity'] , orient=\"h\", palette=\"Purples\")\n",
    "# Using the custom ticker :\n",
    "#ax.xaxis.set_major_locator(ticker.MultipleLocator(200000))\n",
    "ax.set(ylabel=\"Transaction Quantity\")\n",
    "ax.set(xlabel=\"Values\")\n",
    "ax.set(title=\"Distribution of Transaction Quantity\")\n",
    "#sns.despine(trim=True,left=True)"
   ]
  },
  {
   "cell_type": "code",
   "execution_count": 21,
   "metadata": {},
   "outputs": [],
   "source": [
    "# We can clearly see there are statistical outliers for both Order Amount and Transaction Quantities."
   ]
  },
  {
   "cell_type": "code",
   "execution_count": 22,
   "metadata": {},
   "outputs": [],
   "source": [
    "# to define and outlier threshold:\n",
    "def outlier_thresholds(dataframe, variable):\n",
    "    Q1=dataframe[variable].quantile(0.01)\n",
    "    Q3=dataframe[variable].quantile(0.99)\n",
    "    interquartile_range= Q3 - Q1\n",
    "    up_limit = Q3 + 1.5 * interquartile_range\n",
    "    low_limit = Q1 - 1.5 * interquartile_range\n",
    "    return low_limit, up_limit\n",
    "\n",
    "def replace_with_thresholds(dataframe, variable):\n",
    "    low_limit, up_limit = outlier_thresholds(dataframe, variable)\n",
    "    dataframe.loc[(dataframe[variable] > up_limit), variable]=up_limit"
   ]
  },
  {
   "cell_type": "code",
   "execution_count": 23,
   "metadata": {},
   "outputs": [],
   "source": [
    "# Treatment of outliers :\n",
    "replace_with_thresholds(items_df, \"quantity\")\n",
    "replace_with_thresholds(orders_df, \"total\")"
   ]
  },
  {
   "cell_type": "markdown",
   "metadata": {},
   "source": [
    "### Data Cleaning :"
   ]
  },
  {
   "cell_type": "code",
   "execution_count": 24,
   "metadata": {},
   "outputs": [],
   "source": [
    "# Doing join to update the item information with the order information :"
   ]
  },
  {
   "cell_type": "code",
   "execution_count": 25,
   "metadata": {},
   "outputs": [
    {
     "name": "stdout",
     "output_type": "stream",
     "text": [
      "missing number of observations:/n order_number                0\n",
      "total                  424660\n",
      "status                      0\n",
      "customer_account_id     34882\n",
      "tenant_id                   0\n",
      "store_id                    0\n",
      "submitted_date          38983\n",
      "fulfillment_date         2204\n",
      "dtype: int64\n"
     ]
    }
   ],
   "source": [
    "print(f\"missing number of observations:/n {orders_df.isnull().sum()}\") "
   ]
  },
  {
   "cell_type": "code",
   "execution_count": 26,
   "metadata": {},
   "outputs": [
    {
     "name": "stdout",
     "output_type": "stream",
     "text": [
      "dropped observations\n",
      "number of unique observations:/n order_number           11112\n",
      "total                   2997\n",
      "status                     9\n",
      "customer_account_id     9631\n",
      "tenant_id                  2\n",
      "store_id                   2\n",
      "submitted_date           248\n",
      "fulfillment_date         248\n",
      "dtype: int64\n"
     ]
    }
   ],
   "source": [
    "# Drop Null observations :\n",
    "orders_df.dropna(inplace=True)\n",
    "orders_df.isnull().sum()\n",
    "print(\"dropped observations\")\n",
    "print(f\"number of unique observations:/n {orders_df.nunique()}\")"
   ]
  },
  {
   "cell_type": "code",
   "execution_count": 27,
   "metadata": {},
   "outputs": [],
   "source": [
    "# Convert dates columns into datetime datatype:\n",
    "orders_df['submitted_date'] = orders_df['submitted_date'].astype('datetime64[ns]')\n",
    "orders_df['fulfillment_date'] = orders_df['fulfillment_date'].astype('datetime64[ns]')\n",
    "\n",
    "# convert the customer acocunt id and order quantity to integer datatype :\n",
    "orders_df['customer_account_id'] = orders_df['customer_account_id'].astype('int')\n",
    "items_df['quantity'] = items_df['quantity'].astype('int')"
   ]
  },
  {
   "cell_type": "code",
   "execution_count": 28,
   "metadata": {},
   "outputs": [],
   "source": [
    "from datetime import datetime\n",
    "\n",
    "# Take order for order submission and fulfilment dates lessthan equal current date:\n",
    "orders_df=orders_df[(orders_df[\"submitted_date\"]<=datetime.now())]\n",
    "orders_df=orders_df[(orders_df[\"fulfillment_date\"]<=datetime.now())]"
   ]
  },
  {
   "cell_type": "code",
   "execution_count": 29,
   "metadata": {},
   "outputs": [
    {
     "name": "stdout",
     "output_type": "stream",
     "text": [
      "Abandoned, Pending, Errored, Cancelled, Null i.e. Invalid orders dropped\n"
     ]
    }
   ],
   "source": [
    "# Drop orders with incorrect status :\n",
    "orders_df=orders_df[~orders_df['status'].isin(['Abandoned', 'Pending', 'Errored', 'Cancelled', 'Null'])]\n",
    "print(\"Abandoned, Pending, Errored, Cancelled, Null i.e. Invalid orders dropped\")"
   ]
  },
  {
   "cell_type": "code",
   "execution_count": 30,
   "metadata": {},
   "outputs": [
    {
     "data": {
      "text/html": [
       "<div>\n",
       "<style scoped>\n",
       "    .dataframe tbody tr th:only-of-type {\n",
       "        vertical-align: middle;\n",
       "    }\n",
       "\n",
       "    .dataframe tbody tr th {\n",
       "        vertical-align: top;\n",
       "    }\n",
       "\n",
       "    .dataframe thead th {\n",
       "        text-align: right;\n",
       "    }\n",
       "</style>\n",
       "<table border=\"1\" class=\"dataframe\">\n",
       "  <thead>\n",
       "    <tr style=\"text-align: right;\">\n",
       "      <th></th>\n",
       "      <th>order_number</th>\n",
       "      <th>total</th>\n",
       "      <th>status</th>\n",
       "      <th>customer_account_id</th>\n",
       "      <th>tenant_id</th>\n",
       "      <th>store_id</th>\n",
       "      <th>submitted_date</th>\n",
       "      <th>fulfillment_date</th>\n",
       "    </tr>\n",
       "  </thead>\n",
       "  <tbody>\n",
       "    <tr>\n",
       "      <th>470498</th>\n",
       "      <td>98650</td>\n",
       "      <td>14.72</td>\n",
       "      <td>Completed</td>\n",
       "      <td>14558</td>\n",
       "      <td>TNB00084</td>\n",
       "      <td>STOM000000123</td>\n",
       "      <td>2021-11-19</td>\n",
       "      <td>2021-11-19</td>\n",
       "    </tr>\n",
       "    <tr>\n",
       "      <th>470539</th>\n",
       "      <td>99484</td>\n",
       "      <td>9.98</td>\n",
       "      <td>Accepted</td>\n",
       "      <td>25180</td>\n",
       "      <td>TNB00084</td>\n",
       "      <td>STOM000000123</td>\n",
       "      <td>2021-11-20</td>\n",
       "      <td>2021-11-20</td>\n",
       "    </tr>\n",
       "    <tr>\n",
       "      <th>470541</th>\n",
       "      <td>99497</td>\n",
       "      <td>105.89</td>\n",
       "      <td>Accepted</td>\n",
       "      <td>29879</td>\n",
       "      <td>TNB00084</td>\n",
       "      <td>STOM000000123</td>\n",
       "      <td>2021-11-20</td>\n",
       "      <td>2021-11-20</td>\n",
       "    </tr>\n",
       "    <tr>\n",
       "      <th>470568</th>\n",
       "      <td>86098</td>\n",
       "      <td>47.64</td>\n",
       "      <td>Completed</td>\n",
       "      <td>5336</td>\n",
       "      <td>TNB00084</td>\n",
       "      <td>STOM000000123</td>\n",
       "      <td>2021-02-04</td>\n",
       "      <td>2021-11-07</td>\n",
       "    </tr>\n",
       "    <tr>\n",
       "      <th>470570</th>\n",
       "      <td>24530</td>\n",
       "      <td>13.98</td>\n",
       "      <td>Accepted</td>\n",
       "      <td>5336</td>\n",
       "      <td>TNB00084</td>\n",
       "      <td>STOM000000123</td>\n",
       "      <td>2021-02-04</td>\n",
       "      <td>2021-09-05</td>\n",
       "    </tr>\n",
       "  </tbody>\n",
       "</table>\n",
       "</div>"
      ],
      "text/plain": [
       "        order_number   total     status  customer_account_id tenant_id  \\\n",
       "470498         98650   14.72  Completed                14558  TNB00084   \n",
       "470539         99484    9.98   Accepted                25180  TNB00084   \n",
       "470541         99497  105.89   Accepted                29879  TNB00084   \n",
       "470568         86098   47.64  Completed                 5336  TNB00084   \n",
       "470570         24530   13.98   Accepted                 5336  TNB00084   \n",
       "\n",
       "             store_id submitted_date fulfillment_date  \n",
       "470498  STOM000000123     2021-11-19       2021-11-19  \n",
       "470539  STOM000000123     2021-11-20       2021-11-20  \n",
       "470541  STOM000000123     2021-11-20       2021-11-20  \n",
       "470568  STOM000000123     2021-02-04       2021-11-07  \n",
       "470570  STOM000000123     2021-02-04       2021-09-05  "
      ]
     },
     "execution_count": 30,
     "metadata": {},
     "output_type": "execute_result"
    }
   ],
   "source": [
    "orders_df.tail()"
   ]
  },
  {
   "cell_type": "markdown",
   "metadata": {},
   "source": [
    "## Step2 : Customer Segmentation with RFM Analysis :  \n",
    "  \n",
    "The RFM model is a customer segmentation technique. RFM stands for Recency, Frequency, and Monetary value, each corresponding to some key customer trait. These RFM metrics are important indicators of a customer's behavior because frequency and monetary value affects a customer's lifetime value, and recency affects retention, a measure of engagement."
   ]
  },
  {
   "cell_type": "markdown",
   "metadata": {},
   "source": [
    "## Prepare the data for modelling\n",
    "1. R (Recency): Number of days since last purchase\n",
    "2. F (Frequency): Number of tracsactions\n",
    "3. M (Monetary): Total amount of transactions (revenue contributed)"
   ]
  },
  {
   "cell_type": "code",
   "execution_count": 31,
   "metadata": {},
   "outputs": [
    {
     "data": {
      "text/html": [
       "<div>\n",
       "<style scoped>\n",
       "    .dataframe tbody tr th:only-of-type {\n",
       "        vertical-align: middle;\n",
       "    }\n",
       "\n",
       "    .dataframe tbody tr th {\n",
       "        vertical-align: top;\n",
       "    }\n",
       "\n",
       "    .dataframe thead th {\n",
       "        text-align: right;\n",
       "    }\n",
       "</style>\n",
       "<table border=\"1\" class=\"dataframe\">\n",
       "  <thead>\n",
       "    <tr style=\"text-align: right;\">\n",
       "      <th></th>\n",
       "      <th>Recency</th>\n",
       "      <th>Frequency</th>\n",
       "      <th>Monetary</th>\n",
       "    </tr>\n",
       "    <tr>\n",
       "      <th>customer_account_id</th>\n",
       "      <th></th>\n",
       "      <th></th>\n",
       "      <th></th>\n",
       "    </tr>\n",
       "  </thead>\n",
       "  <tbody>\n",
       "    <tr>\n",
       "      <th>1000</th>\n",
       "      <td>335</td>\n",
       "      <td>5</td>\n",
       "      <td>1212.08</td>\n",
       "    </tr>\n",
       "    <tr>\n",
       "      <th>1001</th>\n",
       "      <td>335</td>\n",
       "      <td>20</td>\n",
       "      <td>524.62</td>\n",
       "    </tr>\n",
       "    <tr>\n",
       "      <th>1002</th>\n",
       "      <td>349</td>\n",
       "      <td>6</td>\n",
       "      <td>48.37</td>\n",
       "    </tr>\n",
       "    <tr>\n",
       "      <th>1003</th>\n",
       "      <td>447</td>\n",
       "      <td>1</td>\n",
       "      <td>1.97</td>\n",
       "    </tr>\n",
       "    <tr>\n",
       "      <th>1004</th>\n",
       "      <td>447</td>\n",
       "      <td>1</td>\n",
       "      <td>1.97</td>\n",
       "    </tr>\n",
       "  </tbody>\n",
       "</table>\n",
       "</div>"
      ],
      "text/plain": [
       "                     Recency  Frequency  Monetary\n",
       "customer_account_id                              \n",
       "1000                     335          5   1212.08\n",
       "1001                     335         20    524.62\n",
       "1002                     349          6     48.37\n",
       "1003                     447          1      1.97\n",
       "1004                     447          1      1.97"
      ]
     },
     "execution_count": 31,
     "metadata": {},
     "output_type": "execute_result"
    }
   ],
   "source": [
    "# Create RFM dataframe for each customer:\n",
    "rfm = orders_df.groupby('customer_account_id').agg({'submitted_date': lambda date: (datetime.now() - date.max()).days,\n",
    "                                            'order_number': lambda invc: invc.nunique(),\n",
    "                                            'total': lambda price: price.sum()})\n",
    "rfm.columns = ['Recency', 'Frequency', 'Monetary']\n",
    "rfm.head()"
   ]
  },
  {
   "cell_type": "code",
   "execution_count": 32,
   "metadata": {},
   "outputs": [],
   "source": [
    "# Remove the customer who has no contribution to monetary profit :\n",
    "rfm=rfm[(rfm[\"Monetary\"]>0)]"
   ]
  },
  {
   "cell_type": "code",
   "execution_count": 33,
   "metadata": {},
   "outputs": [
    {
     "data": {
      "text/html": [
       "<div>\n",
       "<style scoped>\n",
       "    .dataframe tbody tr th:only-of-type {\n",
       "        vertical-align: middle;\n",
       "    }\n",
       "\n",
       "    .dataframe tbody tr th {\n",
       "        vertical-align: top;\n",
       "    }\n",
       "\n",
       "    .dataframe thead th {\n",
       "        text-align: right;\n",
       "    }\n",
       "</style>\n",
       "<table border=\"1\" class=\"dataframe\">\n",
       "  <thead>\n",
       "    <tr style=\"text-align: right;\">\n",
       "      <th></th>\n",
       "      <th>Recency</th>\n",
       "      <th>Frequency</th>\n",
       "      <th>Monetary</th>\n",
       "      <th>Recency_score</th>\n",
       "      <th>Frequency_score</th>\n",
       "      <th>Monetary_score</th>\n",
       "      <th>RFM_SCORE</th>\n",
       "    </tr>\n",
       "    <tr>\n",
       "      <th>customer_account_id</th>\n",
       "      <th></th>\n",
       "      <th></th>\n",
       "      <th></th>\n",
       "      <th></th>\n",
       "      <th></th>\n",
       "      <th></th>\n",
       "      <th></th>\n",
       "    </tr>\n",
       "  </thead>\n",
       "  <tbody>\n",
       "    <tr>\n",
       "      <th>1000</th>\n",
       "      <td>335</td>\n",
       "      <td>5</td>\n",
       "      <td>1212.08</td>\n",
       "      <td>5</td>\n",
       "      <td>1</td>\n",
       "      <td>1</td>\n",
       "      <td>511</td>\n",
       "    </tr>\n",
       "    <tr>\n",
       "      <th>1001</th>\n",
       "      <td>335</td>\n",
       "      <td>20</td>\n",
       "      <td>524.62</td>\n",
       "      <td>5</td>\n",
       "      <td>1</td>\n",
       "      <td>1</td>\n",
       "      <td>511</td>\n",
       "    </tr>\n",
       "    <tr>\n",
       "      <th>1002</th>\n",
       "      <td>349</td>\n",
       "      <td>6</td>\n",
       "      <td>48.37</td>\n",
       "      <td>5</td>\n",
       "      <td>1</td>\n",
       "      <td>3</td>\n",
       "      <td>513</td>\n",
       "    </tr>\n",
       "    <tr>\n",
       "      <th>1003</th>\n",
       "      <td>447</td>\n",
       "      <td>1</td>\n",
       "      <td>1.97</td>\n",
       "      <td>5</td>\n",
       "      <td>5</td>\n",
       "      <td>5</td>\n",
       "      <td>555</td>\n",
       "    </tr>\n",
       "    <tr>\n",
       "      <th>1004</th>\n",
       "      <td>447</td>\n",
       "      <td>1</td>\n",
       "      <td>1.97</td>\n",
       "      <td>5</td>\n",
       "      <td>5</td>\n",
       "      <td>5</td>\n",
       "      <td>555</td>\n",
       "    </tr>\n",
       "  </tbody>\n",
       "</table>\n",
       "</div>"
      ],
      "text/plain": [
       "                     Recency  Frequency  Monetary Recency_score  \\\n",
       "customer_account_id                                               \n",
       "1000                     335          5   1212.08             5   \n",
       "1001                     335         20    524.62             5   \n",
       "1002                     349          6     48.37             5   \n",
       "1003                     447          1      1.97             5   \n",
       "1004                     447          1      1.97             5   \n",
       "\n",
       "                    Frequency_score Monetary_score RFM_SCORE  \n",
       "customer_account_id                                           \n",
       "1000                              1              1       511  \n",
       "1001                              1              1       511  \n",
       "1002                              1              3       513  \n",
       "1003                              5              5       555  \n",
       "1004                              5              5       555  "
      ]
     },
     "execution_count": 33,
     "metadata": {},
     "output_type": "execute_result"
    }
   ],
   "source": [
    "#RFM Scores\n",
    "rfm[\"Recency_score\"] = pd.qcut(rfm[\"Recency\"], 5, labels=[1, 2, 3, 4, 5])\n",
    "rfm[\"Frequency_score\"] = pd.qcut(rfm[\"Frequency\"].rank(method=\"first\"), 5, labels=[5, 4, 3, 2, 1])\n",
    "rfm[\"Monetary_score\"] = pd.qcut(rfm[\"Monetary\"], 5, labels=[5, 4, 3, 2, 1])\n",
    "rfm[\"RFM_SCORE\"] = rfm[\"Recency_score\"].astype(str) + rfm[\"Frequency_score\"].astype(str)+ rfm[\"Monetary_score\"].astype(str)\n",
    "rfm.head()"
   ]
  },
  {
   "cell_type": "code",
   "execution_count": 34,
   "metadata": {
    "scrolled": true
   },
   "outputs": [
    {
     "data": {
      "text/html": [
       "<div>\n",
       "<style scoped>\n",
       "    .dataframe tbody tr th:only-of-type {\n",
       "        vertical-align: middle;\n",
       "    }\n",
       "\n",
       "    .dataframe tbody tr th {\n",
       "        vertical-align: top;\n",
       "    }\n",
       "\n",
       "    .dataframe thead th {\n",
       "        text-align: right;\n",
       "    }\n",
       "</style>\n",
       "<table border=\"1\" class=\"dataframe\">\n",
       "  <thead>\n",
       "    <tr style=\"text-align: right;\">\n",
       "      <th></th>\n",
       "      <th>Recency</th>\n",
       "      <th>Frequency</th>\n",
       "      <th>Monetary</th>\n",
       "      <th>Recency_score</th>\n",
       "      <th>Frequency_score</th>\n",
       "      <th>Monetary_score</th>\n",
       "      <th>RFM_SCORE</th>\n",
       "      <th>RFM_Segment</th>\n",
       "    </tr>\n",
       "    <tr>\n",
       "      <th>customer_account_id</th>\n",
       "      <th></th>\n",
       "      <th></th>\n",
       "      <th></th>\n",
       "      <th></th>\n",
       "      <th></th>\n",
       "      <th></th>\n",
       "      <th></th>\n",
       "      <th></th>\n",
       "    </tr>\n",
       "  </thead>\n",
       "  <tbody>\n",
       "    <tr>\n",
       "      <th>29855</th>\n",
       "      <td>88</td>\n",
       "      <td>1</td>\n",
       "      <td>89.99</td>\n",
       "      <td>1</td>\n",
       "      <td>1</td>\n",
       "      <td>2</td>\n",
       "      <td>112</td>\n",
       "      <td>Others_Segment</td>\n",
       "    </tr>\n",
       "    <tr>\n",
       "      <th>29861</th>\n",
       "      <td>88</td>\n",
       "      <td>1</td>\n",
       "      <td>54.99</td>\n",
       "      <td>1</td>\n",
       "      <td>1</td>\n",
       "      <td>3</td>\n",
       "      <td>113</td>\n",
       "      <td>Promising</td>\n",
       "    </tr>\n",
       "    <tr>\n",
       "      <th>29863</th>\n",
       "      <td>88</td>\n",
       "      <td>1</td>\n",
       "      <td>86.21</td>\n",
       "      <td>1</td>\n",
       "      <td>1</td>\n",
       "      <td>2</td>\n",
       "      <td>112</td>\n",
       "      <td>Others_Segment</td>\n",
       "    </tr>\n",
       "    <tr>\n",
       "      <th>29877</th>\n",
       "      <td>88</td>\n",
       "      <td>1</td>\n",
       "      <td>23.08</td>\n",
       "      <td>1</td>\n",
       "      <td>1</td>\n",
       "      <td>4</td>\n",
       "      <td>114</td>\n",
       "      <td>Potential Loyalist</td>\n",
       "    </tr>\n",
       "    <tr>\n",
       "      <th>29879</th>\n",
       "      <td>88</td>\n",
       "      <td>1</td>\n",
       "      <td>105.89</td>\n",
       "      <td>1</td>\n",
       "      <td>1</td>\n",
       "      <td>2</td>\n",
       "      <td>112</td>\n",
       "      <td>Others_Segment</td>\n",
       "    </tr>\n",
       "  </tbody>\n",
       "</table>\n",
       "</div>"
      ],
      "text/plain": [
       "                     Recency  Frequency  Monetary Recency_score  \\\n",
       "customer_account_id                                               \n",
       "29855                     88          1     89.99             1   \n",
       "29861                     88          1     54.99             1   \n",
       "29863                     88          1     86.21             1   \n",
       "29877                     88          1     23.08             1   \n",
       "29879                     88          1    105.89             1   \n",
       "\n",
       "                    Frequency_score Monetary_score RFM_SCORE  \\\n",
       "customer_account_id                                            \n",
       "29855                             1              2       112   \n",
       "29861                             1              3       113   \n",
       "29863                             1              2       112   \n",
       "29877                             1              4       114   \n",
       "29879                             1              2       112   \n",
       "\n",
       "                            RFM_Segment  \n",
       "customer_account_id                      \n",
       "29855                    Others_Segment  \n",
       "29861                         Promising  \n",
       "29863                    Others_Segment  \n",
       "29877                Potential Loyalist  \n",
       "29879                    Others_Segment  "
      ]
     },
     "execution_count": 34,
     "metadata": {},
     "output_type": "execute_result"
    }
   ],
   "source": [
    "seg_map = {\n",
    "            r'111': 'Champions',\n",
    "            r'113': 'Promising',\n",
    "            r'114': 'Potential Loyalist',\n",
    "            r'144': 'New Customers',\n",
    "            r'312': 'Loyal Customers',\n",
    "            r'442': 'Can not loose them',\n",
    "            r'443': 'Need Attention',\n",
    "            r'552': 'About to Sleep',\n",
    "            r'553': 'Hibernating',\n",
    "            r'554': 'At Risk',\n",
    "            r'555': 'Lost'\n",
    "        }\n",
    "\n",
    "seg_map2 = {\n",
    "        r'[1-5][1-5][1-5]': 'Others_Segment',\n",
    "         }\n",
    "\n",
    "\n",
    "rfm[\"RFM_Segment\"] = rfm[\"RFM_SCORE\"].replace(seg_map, regex=True)\n",
    "rfm[\"RFM_Segment\"] = rfm[\"RFM_Segment\"].replace(seg_map2, regex=True)\n",
    "rfm.reset_index()\n",
    "rfm.tail()"
   ]
  },
  {
   "cell_type": "code",
   "execution_count": 35,
   "metadata": {},
   "outputs": [
    {
     "data": {
      "image/png": "[encoded data removed]",
      "text/plain": [
       "<Figure size 936x504 with 1 Axes>"
      ]
     },
     "metadata": {},
     "output_type": "display_data"
    }
   ],
   "source": [
    "# Visualise the customer segments :\n",
    "plt.figure(figsize=(13,7))\n",
    "\n",
    "plt.style.use('seaborn-dark-palette')\n",
    "rfm['RFM_Segment'].value_counts().plot(kind=\"barh\", colormap='Wistia')\n",
    "plt.title(\"RFM Customer Segment Distribution\", size=20)\n",
    "plt.show()"
   ]
  },
  {
   "cell_type": "markdown",
   "metadata": {},
   "source": [
    "## Step3: CRM analytics using CLTV for the customers :    \n",
    "  \n",
    "Customer lifetime value (CLV), a term sometimes used interchangeably with customer lifetime value, is the prediction of a company's net profit contributed to its overall future relationship with a customer.    \n",
    "Firms use many techniques and methods to make these critical decisions. Customer lifetime value (also called CLV or CLTV ) is one of the technique which is rapidly gaining acceptance as a metric to acquire, grow, and retain the “right” customers in customer relationship management (CRM).  y\n",
    "Lifetime value is a critical metric because it represents the maximum amount that customers may be expected to spend in order to acquire new ones. As a result, it's crucial in determining the payback of marketing expenses used in marketing mix modeling."
   ]
  },
  {
   "cell_type": "markdown",
   "metadata": {},
   "source": [
    "## Formula for CLTV calculation:    \n",
    "   \n",
    "### CLTV = ( (Customer_Value(CV) )/Churn_Rate) x Profit_margin  \n",
    " \n",
    "Customer_Value(CV) = Average_Order_Value * Purchase_Frequency,  \n",
    "Average_Order_Value = Total_Revenue / Total_Number_of_Orders,   \n",
    "Purchase_Frequency = Total_Number_of_Orders / Total_Number_of_Customers,  \n",
    "Churn_Rate= 1-Repeat Rate,  \n",
    "Repeat Rate = the ratio of the number of customers with more than one order to the number of unique customers\n",
    "  "
   ]
  },
  {
   "cell_type": "code",
   "execution_count": 36,
   "metadata": {},
   "outputs": [
    {
     "data": {
      "text/html": [
       "<div>\n",
       "<style scoped>\n",
       "    .dataframe tbody tr th:only-of-type {\n",
       "        vertical-align: middle;\n",
       "    }\n",
       "\n",
       "    .dataframe tbody tr th {\n",
       "        vertical-align: top;\n",
       "    }\n",
       "\n",
       "    .dataframe thead th {\n",
       "        text-align: right;\n",
       "    }\n",
       "</style>\n",
       "<table border=\"1\" class=\"dataframe\">\n",
       "  <thead>\n",
       "    <tr style=\"text-align: right;\">\n",
       "      <th></th>\n",
       "      <th>order_number</th>\n",
       "      <th>total</th>\n",
       "      <th>status</th>\n",
       "      <th>customer_account_id</th>\n",
       "      <th>tenant_id</th>\n",
       "      <th>store_id</th>\n",
       "      <th>submitted_date</th>\n",
       "      <th>fulfillment_date</th>\n",
       "      <th>product_code</th>\n",
       "      <th>quantity</th>\n",
       "    </tr>\n",
       "  </thead>\n",
       "  <tbody>\n",
       "    <tr>\n",
       "      <th>0</th>\n",
       "      <td>22</td>\n",
       "      <td>1.23</td>\n",
       "      <td>Completed</td>\n",
       "      <td>1001</td>\n",
       "      <td>TNT00076</td>\n",
       "      <td>STOM000000114</td>\n",
       "      <td>2020-11-04</td>\n",
       "      <td>2020-11-04</td>\n",
       "      <td>123456</td>\n",
       "      <td>1.0</td>\n",
       "    </tr>\n",
       "    <tr>\n",
       "      <th>1</th>\n",
       "      <td>298</td>\n",
       "      <td>3.98</td>\n",
       "      <td>Accepted</td>\n",
       "      <td>1059</td>\n",
       "      <td>TNT00076</td>\n",
       "      <td>STOM000000114</td>\n",
       "      <td>2021-02-18</td>\n",
       "      <td>2021-02-18</td>\n",
       "      <td>11192550693</td>\n",
       "      <td>2.0</td>\n",
       "    </tr>\n",
       "    <tr>\n",
       "      <th>2</th>\n",
       "      <td>481</td>\n",
       "      <td>299.98</td>\n",
       "      <td>Processing</td>\n",
       "      <td>1000</td>\n",
       "      <td>TNT00076</td>\n",
       "      <td>STOM000000114</td>\n",
       "      <td>2021-03-18</td>\n",
       "      <td>2021-03-18</td>\n",
       "      <td>805100</td>\n",
       "      <td>1.0</td>\n",
       "    </tr>\n",
       "    <tr>\n",
       "      <th>3</th>\n",
       "      <td>481</td>\n",
       "      <td>299.98</td>\n",
       "      <td>Processing</td>\n",
       "      <td>1000</td>\n",
       "      <td>TNT00076</td>\n",
       "      <td>STOM000000114</td>\n",
       "      <td>2021-03-18</td>\n",
       "      <td>2021-03-18</td>\n",
       "      <td>777988</td>\n",
       "      <td>2.0</td>\n",
       "    </tr>\n",
       "    <tr>\n",
       "      <th>4</th>\n",
       "      <td>666</td>\n",
       "      <td>5.17</td>\n",
       "      <td>Completed</td>\n",
       "      <td>1037</td>\n",
       "      <td>TNT00076</td>\n",
       "      <td>STOM000000114</td>\n",
       "      <td>2021-04-29</td>\n",
       "      <td>2021-04-29</td>\n",
       "      <td>211203</td>\n",
       "      <td>1.0</td>\n",
       "    </tr>\n",
       "  </tbody>\n",
       "</table>\n",
       "</div>"
      ],
      "text/plain": [
       "   order_number   total      status  customer_account_id tenant_id  \\\n",
       "0            22    1.23   Completed                 1001  TNT00076   \n",
       "1           298    3.98    Accepted                 1059  TNT00076   \n",
       "2           481  299.98  Processing                 1000  TNT00076   \n",
       "3           481  299.98  Processing                 1000  TNT00076   \n",
       "4           666    5.17   Completed                 1037  TNT00076   \n",
       "\n",
       "        store_id submitted_date fulfillment_date product_code  quantity  \n",
       "0  STOM000000114     2020-11-04       2020-11-04       123456       1.0  \n",
       "1  STOM000000114     2021-02-18       2021-02-18  11192550693       2.0  \n",
       "2  STOM000000114     2021-03-18       2021-03-18       805100       1.0  \n",
       "3  STOM000000114     2021-03-18       2021-03-18       777988       2.0  \n",
       "4  STOM000000114     2021-04-29       2021-04-29       211203       1.0  "
      ]
     },
     "execution_count": 36,
     "metadata": {},
     "output_type": "execute_result"
    }
   ],
   "source": [
    "# Merge item and orders dataframes:\n",
    "item_orders_df = pd.merge(orders_df, items_df, how = 'left', on = \"order_number\")\n",
    "item_orders_df.head()"
   ]
  },
  {
   "cell_type": "code",
   "execution_count": 37,
   "metadata": {},
   "outputs": [
    {
     "data": {
      "text/html": [
       "<div>\n",
       "<style scoped>\n",
       "    .dataframe tbody tr th:only-of-type {\n",
       "        vertical-align: middle;\n",
       "    }\n",
       "\n",
       "    .dataframe tbody tr th {\n",
       "        vertical-align: top;\n",
       "    }\n",
       "\n",
       "    .dataframe thead th {\n",
       "        text-align: right;\n",
       "    }\n",
       "</style>\n",
       "<table border=\"1\" class=\"dataframe\">\n",
       "  <thead>\n",
       "    <tr style=\"text-align: right;\">\n",
       "      <th></th>\n",
       "      <th>submitted_date</th>\n",
       "      <th>order_number</th>\n",
       "      <th>quantity</th>\n",
       "      <th>total</th>\n",
       "    </tr>\n",
       "    <tr>\n",
       "      <th>customer_account_id</th>\n",
       "      <th></th>\n",
       "      <th></th>\n",
       "      <th></th>\n",
       "      <th></th>\n",
       "    </tr>\n",
       "  </thead>\n",
       "  <tbody>\n",
       "    <tr>\n",
       "      <th>1000</th>\n",
       "      <td>146</td>\n",
       "      <td>5</td>\n",
       "      <td>23.0</td>\n",
       "      <td>2349.31</td>\n",
       "    </tr>\n",
       "    <tr>\n",
       "      <th>1001</th>\n",
       "      <td>146</td>\n",
       "      <td>20</td>\n",
       "      <td>48.0</td>\n",
       "      <td>865.15</td>\n",
       "    </tr>\n",
       "    <tr>\n",
       "      <th>1002</th>\n",
       "      <td>125</td>\n",
       "      <td>6</td>\n",
       "      <td>23.0</td>\n",
       "      <td>78.22</td>\n",
       "    </tr>\n",
       "    <tr>\n",
       "      <th>1003</th>\n",
       "      <td>0</td>\n",
       "      <td>1</td>\n",
       "      <td>1.0</td>\n",
       "      <td>1.97</td>\n",
       "    </tr>\n",
       "    <tr>\n",
       "      <th>1004</th>\n",
       "      <td>0</td>\n",
       "      <td>1</td>\n",
       "      <td>1.0</td>\n",
       "      <td>1.97</td>\n",
       "    </tr>\n",
       "  </tbody>\n",
       "</table>\n",
       "</div>"
      ],
      "text/plain": [
       "                     submitted_date  order_number  quantity    total\n",
       "customer_account_id                                                 \n",
       "1000                            146             5      23.0  2349.31\n",
       "1001                            146            20      48.0   865.15\n",
       "1002                            125             6      23.0    78.22\n",
       "1003                              0             1       1.0     1.97\n",
       "1004                              0             1       1.0     1.97"
      ]
     },
     "execution_count": 37,
     "metadata": {},
     "output_type": "execute_result"
    }
   ],
   "source": [
    "# Let's create a dataframe for CLTV:\n",
    "cltv_df = item_orders_df.groupby('customer_account_id').agg({'submitted_date': lambda date: (date.max() - date.min()).days,\n",
    "                                        'order_number': lambda num: num.nunique(),\n",
    "                                        'quantity': lambda quant: quant.sum(),\n",
    "                                        'total': lambda price: price.sum()})\n",
    "cltv_df.head()"
   ]
  },
  {
   "cell_type": "code",
   "execution_count": 38,
   "metadata": {},
   "outputs": [],
   "source": [
    "# total transaction, total unit, total price\n",
    "cltv_df.columns=['num_days','num_transactions','num_units','spent_money']"
   ]
  },
  {
   "cell_type": "markdown",
   "metadata": {},
   "source": [
    "### 3.1 Calculate Average Order Value :"
   ]
  },
  {
   "cell_type": "code",
   "execution_count": 39,
   "metadata": {},
   "outputs": [],
   "source": [
    "cltv_df['avg_order_value']=cltv_df['spent_money']/cltv_df['num_transactions']"
   ]
  },
  {
   "cell_type": "code",
   "execution_count": 40,
   "metadata": {
    "scrolled": true
   },
   "outputs": [
    {
     "data": {
      "text/html": [
       "<div>\n",
       "<style scoped>\n",
       "    .dataframe tbody tr th:only-of-type {\n",
       "        vertical-align: middle;\n",
       "    }\n",
       "\n",
       "    .dataframe tbody tr th {\n",
       "        vertical-align: top;\n",
       "    }\n",
       "\n",
       "    .dataframe thead th {\n",
       "        text-align: right;\n",
       "    }\n",
       "</style>\n",
       "<table border=\"1\" class=\"dataframe\">\n",
       "  <thead>\n",
       "    <tr style=\"text-align: right;\">\n",
       "      <th></th>\n",
       "      <th>num_days</th>\n",
       "      <th>num_transactions</th>\n",
       "      <th>num_units</th>\n",
       "      <th>spent_money</th>\n",
       "      <th>avg_order_value</th>\n",
       "    </tr>\n",
       "    <tr>\n",
       "      <th>customer_account_id</th>\n",
       "      <th></th>\n",
       "      <th></th>\n",
       "      <th></th>\n",
       "      <th></th>\n",
       "      <th></th>\n",
       "    </tr>\n",
       "  </thead>\n",
       "  <tbody>\n",
       "    <tr>\n",
       "      <th>1000</th>\n",
       "      <td>146</td>\n",
       "      <td>5</td>\n",
       "      <td>23.0</td>\n",
       "      <td>2349.31</td>\n",
       "      <td>469.862000</td>\n",
       "    </tr>\n",
       "    <tr>\n",
       "      <th>1001</th>\n",
       "      <td>146</td>\n",
       "      <td>20</td>\n",
       "      <td>48.0</td>\n",
       "      <td>865.15</td>\n",
       "      <td>43.257500</td>\n",
       "    </tr>\n",
       "    <tr>\n",
       "      <th>1002</th>\n",
       "      <td>125</td>\n",
       "      <td>6</td>\n",
       "      <td>23.0</td>\n",
       "      <td>78.22</td>\n",
       "      <td>13.036667</td>\n",
       "    </tr>\n",
       "    <tr>\n",
       "      <th>1003</th>\n",
       "      <td>0</td>\n",
       "      <td>1</td>\n",
       "      <td>1.0</td>\n",
       "      <td>1.97</td>\n",
       "      <td>1.970000</td>\n",
       "    </tr>\n",
       "    <tr>\n",
       "      <th>1004</th>\n",
       "      <td>0</td>\n",
       "      <td>1</td>\n",
       "      <td>1.0</td>\n",
       "      <td>1.97</td>\n",
       "      <td>1.970000</td>\n",
       "    </tr>\n",
       "  </tbody>\n",
       "</table>\n",
       "</div>"
      ],
      "text/plain": [
       "                     num_days  num_transactions  num_units  spent_money  \\\n",
       "customer_account_id                                                       \n",
       "1000                      146                 5       23.0      2349.31   \n",
       "1001                      146                20       48.0       865.15   \n",
       "1002                      125                 6       23.0        78.22   \n",
       "1003                        0                 1        1.0         1.97   \n",
       "1004                        0                 1        1.0         1.97   \n",
       "\n",
       "                     avg_order_value  \n",
       "customer_account_id                   \n",
       "1000                      469.862000  \n",
       "1001                       43.257500  \n",
       "1002                       13.036667  \n",
       "1003                        1.970000  \n",
       "1004                        1.970000  "
      ]
     },
     "execution_count": 40,
     "metadata": {},
     "output_type": "execute_result"
    }
   ],
   "source": [
    "cltv_df.head()"
   ]
  },
  {
   "cell_type": "markdown",
   "metadata": {},
   "source": [
    "### 3.2 Calculate Purchase Frequency :"
   ]
  },
  {
   "cell_type": "code",
   "execution_count": 41,
   "metadata": {},
   "outputs": [],
   "source": [
    "purchase_frequency=sum(cltv_df['num_transactions'])/cltv_df.shape[0]"
   ]
  },
  {
   "cell_type": "markdown",
   "metadata": {},
   "source": [
    "### 3.3 Calculate Repeat Rate and Churn Rate :"
   ]
  },
  {
   "cell_type": "code",
   "execution_count": 42,
   "metadata": {},
   "outputs": [],
   "source": [
    "# Repeat Rate\n",
    "repeat_rate=cltv_df[cltv_df.num_transactions > 1].shape[0]/cltv_df.shape[0]"
   ]
  },
  {
   "cell_type": "code",
   "execution_count": 43,
   "metadata": {},
   "outputs": [],
   "source": [
    "#Churn Rate\n",
    "churn_rate=1-repeat_rate"
   ]
  },
  {
   "cell_type": "code",
   "execution_count": 44,
   "metadata": {},
   "outputs": [
    {
     "data": {
      "text/plain": [
       "(1.3391176470588235, 0.1564705882352941, 0.8435294117647059)"
      ]
     },
     "execution_count": 44,
     "metadata": {},
     "output_type": "execute_result"
    }
   ],
   "source": [
    "purchase_frequency,repeat_rate,churn_rate"
   ]
  },
  {
   "cell_type": "markdown",
   "metadata": {},
   "source": [
    "### 3.4 Calculate Profit Margin:"
   ]
  },
  {
   "cell_type": "code",
   "execution_count": 45,
   "metadata": {},
   "outputs": [],
   "source": [
    "# Let's assume that the business has 5 % profit on total sale:\n",
    "cltv_df['profit_margin']=cltv_df['spent_money']*0.05"
   ]
  },
  {
   "cell_type": "code",
   "execution_count": 46,
   "metadata": {},
   "outputs": [
    {
     "data": {
      "text/html": [
       "<div>\n",
       "<style scoped>\n",
       "    .dataframe tbody tr th:only-of-type {\n",
       "        vertical-align: middle;\n",
       "    }\n",
       "\n",
       "    .dataframe tbody tr th {\n",
       "        vertical-align: top;\n",
       "    }\n",
       "\n",
       "    .dataframe thead th {\n",
       "        text-align: right;\n",
       "    }\n",
       "</style>\n",
       "<table border=\"1\" class=\"dataframe\">\n",
       "  <thead>\n",
       "    <tr style=\"text-align: right;\">\n",
       "      <th></th>\n",
       "      <th>num_days</th>\n",
       "      <th>num_transactions</th>\n",
       "      <th>num_units</th>\n",
       "      <th>spent_money</th>\n",
       "      <th>avg_order_value</th>\n",
       "      <th>profit_margin</th>\n",
       "    </tr>\n",
       "    <tr>\n",
       "      <th>customer_account_id</th>\n",
       "      <th></th>\n",
       "      <th></th>\n",
       "      <th></th>\n",
       "      <th></th>\n",
       "      <th></th>\n",
       "      <th></th>\n",
       "    </tr>\n",
       "  </thead>\n",
       "  <tbody>\n",
       "    <tr>\n",
       "      <th>1000</th>\n",
       "      <td>146</td>\n",
       "      <td>5</td>\n",
       "      <td>23.0</td>\n",
       "      <td>2349.31</td>\n",
       "      <td>469.862000</td>\n",
       "      <td>117.4655</td>\n",
       "    </tr>\n",
       "    <tr>\n",
       "      <th>1001</th>\n",
       "      <td>146</td>\n",
       "      <td>20</td>\n",
       "      <td>48.0</td>\n",
       "      <td>865.15</td>\n",
       "      <td>43.257500</td>\n",
       "      <td>43.2575</td>\n",
       "    </tr>\n",
       "    <tr>\n",
       "      <th>1002</th>\n",
       "      <td>125</td>\n",
       "      <td>6</td>\n",
       "      <td>23.0</td>\n",
       "      <td>78.22</td>\n",
       "      <td>13.036667</td>\n",
       "      <td>3.9110</td>\n",
       "    </tr>\n",
       "    <tr>\n",
       "      <th>1003</th>\n",
       "      <td>0</td>\n",
       "      <td>1</td>\n",
       "      <td>1.0</td>\n",
       "      <td>1.97</td>\n",
       "      <td>1.970000</td>\n",
       "      <td>0.0985</td>\n",
       "    </tr>\n",
       "    <tr>\n",
       "      <th>1004</th>\n",
       "      <td>0</td>\n",
       "      <td>1</td>\n",
       "      <td>1.0</td>\n",
       "      <td>1.97</td>\n",
       "      <td>1.970000</td>\n",
       "      <td>0.0985</td>\n",
       "    </tr>\n",
       "  </tbody>\n",
       "</table>\n",
       "</div>"
      ],
      "text/plain": [
       "                     num_days  num_transactions  num_units  spent_money  \\\n",
       "customer_account_id                                                       \n",
       "1000                      146                 5       23.0      2349.31   \n",
       "1001                      146                20       48.0       865.15   \n",
       "1002                      125                 6       23.0        78.22   \n",
       "1003                        0                 1        1.0         1.97   \n",
       "1004                        0                 1        1.0         1.97   \n",
       "\n",
       "                     avg_order_value  profit_margin  \n",
       "customer_account_id                                  \n",
       "1000                      469.862000       117.4655  \n",
       "1001                       43.257500        43.2575  \n",
       "1002                       13.036667         3.9110  \n",
       "1003                        1.970000         0.0985  \n",
       "1004                        1.970000         0.0985  "
      ]
     },
     "execution_count": 46,
     "metadata": {},
     "output_type": "execute_result"
    }
   ],
   "source": [
    "cltv_df.head()"
   ]
  },
  {
   "cell_type": "markdown",
   "metadata": {},
   "source": [
    "### 3.5 Calculate Customer Lifetime Value:"
   ]
  },
  {
   "cell_type": "code",
   "execution_count": 47,
   "metadata": {},
   "outputs": [],
   "source": [
    "# Customer Value\n",
    "cltv_df['CLV']=(cltv_df['avg_order_value']*purchase_frequency)/churn_rate\n",
    "\n",
    "#Customer Lifetime Value\n",
    "cltv_df['cust_lifetime_value']=cltv_df['CLV']*cltv_df['profit_margin']"
   ]
  },
  {
   "cell_type": "code",
   "execution_count": 48,
   "metadata": {},
   "outputs": [
    {
     "data": {
      "text/html": [
       "<div>\n",
       "<style scoped>\n",
       "    .dataframe tbody tr th:only-of-type {\n",
       "        vertical-align: middle;\n",
       "    }\n",
       "\n",
       "    .dataframe tbody tr th {\n",
       "        vertical-align: top;\n",
       "    }\n",
       "\n",
       "    .dataframe thead th {\n",
       "        text-align: right;\n",
       "    }\n",
       "</style>\n",
       "<table border=\"1\" class=\"dataframe\">\n",
       "  <thead>\n",
       "    <tr style=\"text-align: right;\">\n",
       "      <th></th>\n",
       "      <th>num_days</th>\n",
       "      <th>num_transactions</th>\n",
       "      <th>num_units</th>\n",
       "      <th>spent_money</th>\n",
       "      <th>avg_order_value</th>\n",
       "      <th>profit_margin</th>\n",
       "      <th>CLV</th>\n",
       "      <th>cust_lifetime_value</th>\n",
       "    </tr>\n",
       "    <tr>\n",
       "      <th>customer_account_id</th>\n",
       "      <th></th>\n",
       "      <th></th>\n",
       "      <th></th>\n",
       "      <th></th>\n",
       "      <th></th>\n",
       "      <th></th>\n",
       "      <th></th>\n",
       "      <th></th>\n",
       "    </tr>\n",
       "  </thead>\n",
       "  <tbody>\n",
       "    <tr>\n",
       "      <th>1000</th>\n",
       "      <td>146</td>\n",
       "      <td>5</td>\n",
       "      <td>23.0</td>\n",
       "      <td>2349.31</td>\n",
       "      <td>469.862000</td>\n",
       "      <td>117.4655</td>\n",
       "      <td>745.914116</td>\n",
       "      <td>87619.174647</td>\n",
       "    </tr>\n",
       "    <tr>\n",
       "      <th>1001</th>\n",
       "      <td>146</td>\n",
       "      <td>20</td>\n",
       "      <td>48.0</td>\n",
       "      <td>865.15</td>\n",
       "      <td>43.257500</td>\n",
       "      <td>43.2575</td>\n",
       "      <td>68.672035</td>\n",
       "      <td>2970.580571</td>\n",
       "    </tr>\n",
       "    <tr>\n",
       "      <th>1002</th>\n",
       "      <td>125</td>\n",
       "      <td>6</td>\n",
       "      <td>23.0</td>\n",
       "      <td>78.22</td>\n",
       "      <td>13.036667</td>\n",
       "      <td>3.9110</td>\n",
       "      <td>20.695936</td>\n",
       "      <td>80.941804</td>\n",
       "    </tr>\n",
       "    <tr>\n",
       "      <th>1003</th>\n",
       "      <td>0</td>\n",
       "      <td>1</td>\n",
       "      <td>1.0</td>\n",
       "      <td>1.97</td>\n",
       "      <td>1.970000</td>\n",
       "      <td>0.0985</td>\n",
       "      <td>3.127409</td>\n",
       "      <td>0.308050</td>\n",
       "    </tr>\n",
       "    <tr>\n",
       "      <th>1004</th>\n",
       "      <td>0</td>\n",
       "      <td>1</td>\n",
       "      <td>1.0</td>\n",
       "      <td>1.97</td>\n",
       "      <td>1.970000</td>\n",
       "      <td>0.0985</td>\n",
       "      <td>3.127409</td>\n",
       "      <td>0.308050</td>\n",
       "    </tr>\n",
       "  </tbody>\n",
       "</table>\n",
       "</div>"
      ],
      "text/plain": [
       "                     num_days  num_transactions  num_units  spent_money  \\\n",
       "customer_account_id                                                       \n",
       "1000                      146                 5       23.0      2349.31   \n",
       "1001                      146                20       48.0       865.15   \n",
       "1002                      125                 6       23.0        78.22   \n",
       "1003                        0                 1        1.0         1.97   \n",
       "1004                        0                 1        1.0         1.97   \n",
       "\n",
       "                     avg_order_value  profit_margin         CLV  \\\n",
       "customer_account_id                                               \n",
       "1000                      469.862000       117.4655  745.914116   \n",
       "1001                       43.257500        43.2575   68.672035   \n",
       "1002                       13.036667         3.9110   20.695936   \n",
       "1003                        1.970000         0.0985    3.127409   \n",
       "1004                        1.970000         0.0985    3.127409   \n",
       "\n",
       "                     cust_lifetime_value  \n",
       "customer_account_id                       \n",
       "1000                        87619.174647  \n",
       "1001                         2970.580571  \n",
       "1002                           80.941804  \n",
       "1003                            0.308050  \n",
       "1004                            0.308050  "
      ]
     },
     "execution_count": 48,
     "metadata": {},
     "output_type": "execute_result"
    }
   ],
   "source": [
    "cltv_df.head()"
   ]
  },
  {
   "cell_type": "markdown",
   "metadata": {},
   "source": [
    "### 3.6 Segment customers based on CLTV value :  \n",
    "Segment are useful in making better customer personalizations"
   ]
  },
  {
   "cell_type": "code",
   "execution_count": 49,
   "metadata": {},
   "outputs": [],
   "source": [
    "cltv_df[\"Segment\"] = pd.qcut(cltv_df[\"cust_lifetime_value\"], 5, labels = [\"E\", \"D\", \"C\", \"B\", \"A\"])"
   ]
  },
  {
   "cell_type": "code",
   "execution_count": 50,
   "metadata": {},
   "outputs": [
    {
     "data": {
      "text/html": [
       "<div>\n",
       "<style scoped>\n",
       "    .dataframe tbody tr th:only-of-type {\n",
       "        vertical-align: middle;\n",
       "    }\n",
       "\n",
       "    .dataframe tbody tr th {\n",
       "        vertical-align: top;\n",
       "    }\n",
       "\n",
       "    .dataframe thead th {\n",
       "        text-align: right;\n",
       "    }\n",
       "</style>\n",
       "<table border=\"1\" class=\"dataframe\">\n",
       "  <thead>\n",
       "    <tr style=\"text-align: right;\">\n",
       "      <th></th>\n",
       "      <th>num_days</th>\n",
       "      <th>num_transactions</th>\n",
       "      <th>num_units</th>\n",
       "      <th>spent_money</th>\n",
       "      <th>avg_order_value</th>\n",
       "      <th>profit_margin</th>\n",
       "      <th>CLV</th>\n",
       "      <th>cust_lifetime_value</th>\n",
       "      <th>Segment</th>\n",
       "    </tr>\n",
       "    <tr>\n",
       "      <th>customer_account_id</th>\n",
       "      <th></th>\n",
       "      <th></th>\n",
       "      <th></th>\n",
       "      <th></th>\n",
       "      <th></th>\n",
       "      <th></th>\n",
       "      <th></th>\n",
       "      <th></th>\n",
       "      <th></th>\n",
       "    </tr>\n",
       "  </thead>\n",
       "  <tbody>\n",
       "    <tr>\n",
       "      <th>1000</th>\n",
       "      <td>146</td>\n",
       "      <td>5</td>\n",
       "      <td>23.0</td>\n",
       "      <td>2349.31</td>\n",
       "      <td>469.862000</td>\n",
       "      <td>117.4655</td>\n",
       "      <td>745.914116</td>\n",
       "      <td>87619.174647</td>\n",
       "      <td>A</td>\n",
       "    </tr>\n",
       "    <tr>\n",
       "      <th>1001</th>\n",
       "      <td>146</td>\n",
       "      <td>20</td>\n",
       "      <td>48.0</td>\n",
       "      <td>865.15</td>\n",
       "      <td>43.257500</td>\n",
       "      <td>43.2575</td>\n",
       "      <td>68.672035</td>\n",
       "      <td>2970.580571</td>\n",
       "      <td>B</td>\n",
       "    </tr>\n",
       "    <tr>\n",
       "      <th>1002</th>\n",
       "      <td>125</td>\n",
       "      <td>6</td>\n",
       "      <td>23.0</td>\n",
       "      <td>78.22</td>\n",
       "      <td>13.036667</td>\n",
       "      <td>3.9110</td>\n",
       "      <td>20.695936</td>\n",
       "      <td>80.941804</td>\n",
       "      <td>D</td>\n",
       "    </tr>\n",
       "    <tr>\n",
       "      <th>1003</th>\n",
       "      <td>0</td>\n",
       "      <td>1</td>\n",
       "      <td>1.0</td>\n",
       "      <td>1.97</td>\n",
       "      <td>1.970000</td>\n",
       "      <td>0.0985</td>\n",
       "      <td>3.127409</td>\n",
       "      <td>0.308050</td>\n",
       "      <td>E</td>\n",
       "    </tr>\n",
       "    <tr>\n",
       "      <th>1004</th>\n",
       "      <td>0</td>\n",
       "      <td>1</td>\n",
       "      <td>1.0</td>\n",
       "      <td>1.97</td>\n",
       "      <td>1.970000</td>\n",
       "      <td>0.0985</td>\n",
       "      <td>3.127409</td>\n",
       "      <td>0.308050</td>\n",
       "      <td>E</td>\n",
       "    </tr>\n",
       "  </tbody>\n",
       "</table>\n",
       "</div>"
      ],
      "text/plain": [
       "                     num_days  num_transactions  num_units  spent_money  \\\n",
       "customer_account_id                                                       \n",
       "1000                      146                 5       23.0      2349.31   \n",
       "1001                      146                20       48.0       865.15   \n",
       "1002                      125                 6       23.0        78.22   \n",
       "1003                        0                 1        1.0         1.97   \n",
       "1004                        0                 1        1.0         1.97   \n",
       "\n",
       "                     avg_order_value  profit_margin         CLV  \\\n",
       "customer_account_id                                               \n",
       "1000                      469.862000       117.4655  745.914116   \n",
       "1001                       43.257500        43.2575   68.672035   \n",
       "1002                       13.036667         3.9110   20.695936   \n",
       "1003                        1.970000         0.0985    3.127409   \n",
       "1004                        1.970000         0.0985    3.127409   \n",
       "\n",
       "                     cust_lifetime_value Segment  \n",
       "customer_account_id                               \n",
       "1000                        87619.174647       A  \n",
       "1001                         2970.580571       B  \n",
       "1002                           80.941804       D  \n",
       "1003                            0.308050       E  \n",
       "1004                            0.308050       E  "
      ]
     },
     "execution_count": 50,
     "metadata": {},
     "output_type": "execute_result"
    }
   ],
   "source": [
    "cltv_df.head()"
   ]
  },
  {
   "cell_type": "code",
   "execution_count": 51,
   "metadata": {
    "scrolled": true
   },
   "outputs": [
    {
     "data": {
      "text/plain": [
       "<seaborn.axisgrid.FacetGrid at 0x2a502563c40>"
      ]
     },
     "execution_count": 51,
     "metadata": {},
     "output_type": "execute_result"
    },
    {
     "data": {
      "image/png": "[encoded data removed]",
      "text/plain": [
       "<Figure size 408.125x360 with 1 Axes>"
      ]
     },
     "metadata": {},
     "output_type": "display_data"
    }
   ],
   "source": [
    "sns.lmplot(x='num_days', y='CLV', data=cltv_df, hue='Segment', fit_reg=False)"
   ]
  },
  {
   "cell_type": "code",
   "execution_count": 52,
   "metadata": {
    "scrolled": true
   },
   "outputs": [
    {
     "data": {
      "text/plain": [
       "<seaborn.axisgrid.FacetGrid at 0x2a502595b50>"
      ]
     },
     "execution_count": 52,
     "metadata": {},
     "output_type": "execute_result"
    },
    {
     "data": {
      "image/png": "[encoded data removed]",
      "text/plain": [
       "<Figure size 408.125x360 with 1 Axes>"
      ]
     },
     "metadata": {},
     "output_type": "display_data"
    }
   ],
   "source": [
    "sns.lmplot(x='num_transactions', y='CLV', data=cltv_df, hue='Segment', fit_reg=False)"
   ]
  },
  {
   "cell_type": "code",
   "execution_count": 53,
   "metadata": {
    "scrolled": true
   },
   "outputs": [
    {
     "data": {
      "text/plain": [
       "<seaborn.axisgrid.FacetGrid at 0x2a50217e1c0>"
      ]
     },
     "execution_count": 53,
     "metadata": {},
     "output_type": "execute_result"
    },
    {
     "data": {
      "image/png": "[encoded data removed]",
      "text/plain": [
       "<Figure size 408.125x360 with 1 Axes>"
      ]
     },
     "metadata": {},
     "output_type": "display_data"
    }
   ],
   "source": [
    "sns.lmplot(x='num_units', y='CLV', data=cltv_df, hue='Segment', fit_reg=False)"
   ]
  },
  {
   "cell_type": "code",
   "execution_count": 54,
   "metadata": {
    "scrolled": true
   },
   "outputs": [
    {
     "data": {
      "text/plain": [
       "<seaborn.axisgrid.FacetGrid at 0x2a5023d6640>"
      ]
     },
     "execution_count": 54,
     "metadata": {},
     "output_type": "execute_result"
    },
    {
     "data": {
      "image/png": "[encoded data removed]",
      "text/plain": [
       "<Figure size 408.125x360 with 1 Axes>"
      ]
     },
     "metadata": {},
     "output_type": "display_data"
    }
   ],
   "source": [
    "sns.lmplot(x='spent_money', y='CLV', data=cltv_df, hue='Segment', fit_reg=False)"
   ]
  },
  {
   "cell_type": "code",
   "execution_count": 55,
   "metadata": {},
   "outputs": [
    {
     "data": {
      "text/plain": [
       "<seaborn.axisgrid.FacetGrid at 0x2a502170670>"
      ]
     },
     "execution_count": 55,
     "metadata": {},
     "output_type": "execute_result"
    },
    {
     "data": {
      "image/png": "[encoded data removed]",
      "text/plain": [
       "<Figure size 408.125x360 with 1 Axes>"
      ]
     },
     "metadata": {},
     "output_type": "display_data"
    }
   ],
   "source": [
    "\n",
    "sns.lmplot(x='avg_order_value', y='CLV', data=cltv_df, hue='Segment', fit_reg=False)"
   ]
  },
  {
   "cell_type": "code",
   "execution_count": 56,
   "metadata": {},
   "outputs": [
    {
     "data": {
      "text/plain": [
       "<seaborn.axisgrid.FacetGrid at 0x2a502a555b0>"
      ]
     },
     "execution_count": 56,
     "metadata": {},
     "output_type": "execute_result"
    },
    {
     "data": {
      "image/png": "[encoded data removed]",
      "text/plain": [
       "<Figure size 408.125x360 with 1 Axes>"
      ]
     },
     "metadata": {},
     "output_type": "display_data"
    }
   ],
   "source": [
    "sns.lmplot(x='profit_margin', y='CLV', data=cltv_df, hue='Segment', fit_reg=False)"
   ]
  },
  {
   "cell_type": "code",
   "execution_count": 57,
   "metadata": {},
   "outputs": [
    {
     "data": {
      "text/plain": [
       "<AxesSubplot:xlabel='Segment', ylabel='num_transactions'>"
      ]
     },
     "execution_count": 57,
     "metadata": {},
     "output_type": "execute_result"
    },
    {
     "data": {
      "image/png": "[encoded data removed]",
      "text/plain": [
       "<Figure size 432x288 with 1 Axes>"
      ]
     },
     "metadata": {},
     "output_type": "display_data"
    }
   ],
   "source": [
    "# plot\n",
    "sns.boxplot(x='Segment', y='num_transactions', data=cltv_df)"
   ]
  },
  {
   "cell_type": "code",
   "execution_count": 58,
   "metadata": {},
   "outputs": [
    {
     "data": {
      "text/plain": [
       "<AxesSubplot:xlabel='Segment', ylabel='spent_money'>"
      ]
     },
     "execution_count": 58,
     "metadata": {},
     "output_type": "execute_result"
    },
    {
     "data": {
      "image/png": "[encoded data removed]",
      "text/plain": [
       "<Figure size 432x288 with 1 Axes>"
      ]
     },
     "metadata": {},
     "output_type": "display_data"
    }
   ],
   "source": [
    "# plot\n",
    "sns.boxplot(x='Segment', y='spent_money', data=cltv_df)"
   ]
  },
  {
   "cell_type": "code",
   "execution_count": 59,
   "metadata": {},
   "outputs": [
    {
     "data": {
      "text/plain": [
       "<AxesSubplot:xlabel='Segment', ylabel='num_units'>"
      ]
     },
     "execution_count": 59,
     "metadata": {},
     "output_type": "execute_result"
    },
    {
     "data": {
      "image/png": "[encoded data removed]",
      "text/plain": [
       "<Figure size 432x288 with 1 Axes>"
      ]
     },
     "metadata": {},
     "output_type": "display_data"
    }
   ],
   "source": [
    "# plot\n",
    "sns.boxplot(x='Segment', y='num_units', data=cltv_df)"
   ]
  },
  {
   "cell_type": "code",
   "execution_count": 60,
   "metadata": {},
   "outputs": [
    {
     "data": {
      "text/html": [
       "<div>\n",
       "<style scoped>\n",
       "    .dataframe tbody tr th:only-of-type {\n",
       "        vertical-align: middle;\n",
       "    }\n",
       "\n",
       "    .dataframe tbody tr th {\n",
       "        vertical-align: top;\n",
       "    }\n",
       "\n",
       "    .dataframe thead tr th {\n",
       "        text-align: left;\n",
       "    }\n",
       "\n",
       "    .dataframe thead tr:last-of-type th {\n",
       "        text-align: right;\n",
       "    }\n",
       "</style>\n",
       "<table border=\"1\" class=\"dataframe\">\n",
       "  <thead>\n",
       "    <tr>\n",
       "      <th></th>\n",
       "      <th colspan=\"3\" halign=\"left\">num_transactions</th>\n",
       "      <th colspan=\"3\" halign=\"left\">num_units</th>\n",
       "      <th colspan=\"3\" halign=\"left\">spent_money</th>\n",
       "      <th colspan=\"3\" halign=\"left\">cust_lifetime_value</th>\n",
       "      <th colspan=\"3\" halign=\"left\">CLV</th>\n",
       "    </tr>\n",
       "    <tr>\n",
       "      <th></th>\n",
       "      <th>sum</th>\n",
       "      <th>count</th>\n",
       "      <th>mean</th>\n",
       "      <th>sum</th>\n",
       "      <th>count</th>\n",
       "      <th>mean</th>\n",
       "      <th>sum</th>\n",
       "      <th>count</th>\n",
       "      <th>mean</th>\n",
       "      <th>sum</th>\n",
       "      <th>count</th>\n",
       "      <th>mean</th>\n",
       "      <th>sum</th>\n",
       "      <th>count</th>\n",
       "      <th>mean</th>\n",
       "    </tr>\n",
       "    <tr>\n",
       "      <th>Segment</th>\n",
       "      <th></th>\n",
       "      <th></th>\n",
       "      <th></th>\n",
       "      <th></th>\n",
       "      <th></th>\n",
       "      <th></th>\n",
       "      <th></th>\n",
       "      <th></th>\n",
       "      <th></th>\n",
       "      <th></th>\n",
       "      <th></th>\n",
       "      <th></th>\n",
       "      <th></th>\n",
       "      <th></th>\n",
       "      <th></th>\n",
       "    </tr>\n",
       "  </thead>\n",
       "  <tbody>\n",
       "    <tr>\n",
       "      <th>E</th>\n",
       "      <td>726</td>\n",
       "      <td>680</td>\n",
       "      <td>1.067647</td>\n",
       "      <td>1052.0</td>\n",
       "      <td>680</td>\n",
       "      <td>1.547059</td>\n",
       "      <td>7470.62</td>\n",
       "      <td>680</td>\n",
       "      <td>10.986206</td>\n",
       "      <td>9.784270e+03</td>\n",
       "      <td>680</td>\n",
       "      <td>14.388632</td>\n",
       "      <td>11267.747890</td>\n",
       "      <td>680</td>\n",
       "      <td>16.570217</td>\n",
       "    </tr>\n",
       "    <tr>\n",
       "      <th>D</th>\n",
       "      <td>796</td>\n",
       "      <td>680</td>\n",
       "      <td>1.170588</td>\n",
       "      <td>1929.0</td>\n",
       "      <td>680</td>\n",
       "      <td>2.836765</td>\n",
       "      <td>31439.95</td>\n",
       "      <td>680</td>\n",
       "      <td>46.235221</td>\n",
       "      <td>1.071037e+05</td>\n",
       "      <td>680</td>\n",
       "      <td>157.505462</td>\n",
       "      <td>44749.436199</td>\n",
       "      <td>680</td>\n",
       "      <td>65.807994</td>\n",
       "    </tr>\n",
       "    <tr>\n",
       "      <th>C</th>\n",
       "      <td>814</td>\n",
       "      <td>680</td>\n",
       "      <td>1.197059</td>\n",
       "      <td>2471.0</td>\n",
       "      <td>680</td>\n",
       "      <td>3.633824</td>\n",
       "      <td>65869.95</td>\n",
       "      <td>680</td>\n",
       "      <td>96.867574</td>\n",
       "      <td>4.545386e+05</td>\n",
       "      <td>680</td>\n",
       "      <td>668.439106</td>\n",
       "      <td>92868.883511</td>\n",
       "      <td>680</td>\n",
       "      <td>136.571888</td>\n",
       "    </tr>\n",
       "    <tr>\n",
       "      <th>B</th>\n",
       "      <td>906</td>\n",
       "      <td>680</td>\n",
       "      <td>1.332353</td>\n",
       "      <td>3987.0</td>\n",
       "      <td>680</td>\n",
       "      <td>5.863235</td>\n",
       "      <td>151942.63</td>\n",
       "      <td>680</td>\n",
       "      <td>223.445044</td>\n",
       "      <td>2.300473e+06</td>\n",
       "      <td>680</td>\n",
       "      <td>3383.048274</td>\n",
       "      <td>201094.799337</td>\n",
       "      <td>680</td>\n",
       "      <td>295.727646</td>\n",
       "    </tr>\n",
       "    <tr>\n",
       "      <th>A</th>\n",
       "      <td>1311</td>\n",
       "      <td>680</td>\n",
       "      <td>1.927941</td>\n",
       "      <td>14260.0</td>\n",
       "      <td>680</td>\n",
       "      <td>20.970588</td>\n",
       "      <td>914959.37</td>\n",
       "      <td>680</td>\n",
       "      <td>1345.528485</td>\n",
       "      <td>1.496265e+08</td>\n",
       "      <td>680</td>\n",
       "      <td>220039.036658</td>\n",
       "      <td>916699.841133</td>\n",
       "      <td>680</td>\n",
       "      <td>1348.088002</td>\n",
       "    </tr>\n",
       "  </tbody>\n",
       "</table>\n",
       "</div>"
      ],
      "text/plain": [
       "        num_transactions                 num_units                   \\\n",
       "                     sum count      mean       sum count       mean   \n",
       "Segment                                                               \n",
       "E                    726   680  1.067647    1052.0   680   1.547059   \n",
       "D                    796   680  1.170588    1929.0   680   2.836765   \n",
       "C                    814   680  1.197059    2471.0   680   3.633824   \n",
       "B                    906   680  1.332353    3987.0   680   5.863235   \n",
       "A                   1311   680  1.927941   14260.0   680  20.970588   \n",
       "\n",
       "        spent_money                    cust_lifetime_value        \\\n",
       "                sum count         mean                 sum count   \n",
       "Segment                                                            \n",
       "E           7470.62   680    10.986206        9.784270e+03   680   \n",
       "D          31439.95   680    46.235221        1.071037e+05   680   \n",
       "C          65869.95   680    96.867574        4.545386e+05   680   \n",
       "B         151942.63   680   223.445044        2.300473e+06   680   \n",
       "A         914959.37   680  1345.528485        1.496265e+08   680   \n",
       "\n",
       "                                  CLV                     \n",
       "                  mean            sum count         mean  \n",
       "Segment                                                   \n",
       "E            14.388632   11267.747890   680    16.570217  \n",
       "D           157.505462   44749.436199   680    65.807994  \n",
       "C           668.439106   92868.883511   680   136.571888  \n",
       "B          3383.048274  201094.799337   680   295.727646  \n",
       "A        220039.036658  916699.841133   680  1348.088002  "
      ]
     },
     "execution_count": 60,
     "metadata": {},
     "output_type": "execute_result"
    }
   ],
   "source": [
    "# Total transaction, total unit, total price, CLTV and SCALED CLTV values are interpreted with their count, sum, and mean values\n",
    "cltv_df.groupby(\"Segment\")[[\"num_transactions\", \"num_units\", \"spent_money\", \"cust_lifetime_value\", \"CLV\"]].agg(\n",
    "    {\"count\", \"mean\", \"sum\"})"
   ]
  },
  {
   "cell_type": "code",
   "execution_count": 61,
   "metadata": {},
   "outputs": [],
   "source": [
    "############################################### End of Assignment ##################################################"
   ]
  }
 ],
 "metadata": {
  "kernelspec": {
   "display_name": "Python 3",
   "language": "python",
   "name": "python3"
  },
  "language_info": {
   "codemirror_mode": {
    "name": "ipython",
    "version": 3
   },
   "file_extension": ".py",
   "mimetype": "text/x-python",
   "name": "python",
   "nbconvert_exporter": "python",
   "pygments_lexer": "ipython3",
   "version": "3.8.3"
  }
 },
 "nbformat": 4,
 "nbformat_minor": 4
}
